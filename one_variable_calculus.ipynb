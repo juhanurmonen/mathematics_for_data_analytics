{
 "cells": [
  {
   "cell_type": "markdown",
   "id": "9ec73744-f5c9-4828-871b-90f8aa9b3e80",
   "metadata": {},
   "source": [
    "# One variable calculus"
   ]
  },
  {
   "cell_type": "markdown",
   "id": "85bcf60f-b6f8-4a7a-8179-4d4f292f8244",
   "metadata": {},
   "source": [
    "Real-valued functions operate on subsets of the set $\\mathbf{R}$ of the real numbers. If such a function has domain $X\\subseteq\\mathbf{R}$ ja range $Y\\subseteq\\mathbf{R}$, it is also a one-variable function. This is denoted by $f: X \\to Y$. Let us recall a properties of functions.\n",
    "\n",
    "* for every $x\\in X$ there is a unique $y\\in Y$ such that $f(x)=y$ (this a requirement of a function, compared to a relation)\n",
    "* if _also_ for every $y\\in Y$ there is an $x\\in X$ such that $f(x)=y$, such a a function is called _surjective_. This means that $f(X)=Y$\n",
    "* if for every $x, y\\in X$ so that $x\\not= y$ also $f(x)\\not= f(y)$, such a function is called _injective_.\n",
    "* functions with both injective and surjective properties are called _bijective_."
   ]
  },
  {
   "cell_type": "markdown",
   "id": "59bbc3e9-b51f-4018-891c-278cb5035e36",
   "metadata": {},
   "source": [
    "In many practical application $X, Y = \\mathbf{R}$. Graphical representation of this is two-dimensional coordinate system, where the variable $x$ runs through the horizontal axis and the variable $y$ tries to catch up on the vertical axis by following the rule given by the definition of $f$."
   ]
  },
  {
   "cell_type": "markdown",
   "id": "cfba97dd-e886-4ef3-9c38-45d9b58f170e",
   "metadata": {},
   "source": [
    "## Derivative"
   ]
  },
  {
   "cell_type": "markdown",
   "id": "443a3721-946f-4fdb-be57-10a8d2cf22ee",
   "metadata": {},
   "source": [
    "Possibly the most important concept of _calculus_, at least of _differential calculus_  is the concept of __derivative__. Oversimplifying, derivatives are calculations of the rates of changes. Although the idea is rather simple, they have numerous properties, both earthbound and extraterrestrial. Whereas the concept of a derivative goes back to the ancient Greek, by the work of Euclid and Archimedes in circa 300&ndash; 300 BC, as creators of the modern calculus are considered _Gottfried Wilhelm Leibniz_ and _Sir Isaac Newton_, independently. \n",
    "\n",
    "* [Wikipedia: Calculus](https://en.wikipedia.org/wiki/Calculus)\n",
    "* [Wikipedia: Differential Calculus](https://en.wikipedia.org/wiki/Differential_calculus)\n",
    "* [Wikipedia: Gottfried Wilhelm Leibniz](https://en.wikipedia.org/wiki/Gottfried_Wilhelm_Leibniz)\n",
    "* [Wikipedia: Isaac Newton](https://en.wikipedia.org/wiki/Isaac_Newton))"
   ]
  },
  {
   "cell_type": "markdown",
   "id": "1c2c0bf1-f69c-4b12-bd56-7dfbf759857a",
   "metadata": {},
   "source": [
    "### Definition of Derivative"
   ]
  },
  {
   "cell_type": "code",
   "execution_count": null,
   "id": "0d3b2dc1-1290-473b-8cf5-8c9bf6fcf4d5",
   "metadata": {},
   "outputs": [],
   "source": []
  }
 ],
 "metadata": {
  "kernelspec": {
   "display_name": "Python 3 (ipykernel)",
   "language": "python",
   "name": "python3"
  },
  "language_info": {
   "codemirror_mode": {
    "name": "ipython",
    "version": 3
   },
   "file_extension": ".py",
   "mimetype": "text/x-python",
   "name": "python",
   "nbconvert_exporter": "python",
   "pygments_lexer": "ipython3",
   "version": "3.11.5"
  }
 },
 "nbformat": 4,
 "nbformat_minor": 5
}
