{
 "cells": [
  {
   "cell_type": "markdown",
   "id": "9ec73744-f5c9-4828-871b-90f8aa9b3e80",
   "metadata": {},
   "source": [
    "# One variable differentiation calculus"
   ]
  },
  {
   "cell_type": "markdown",
   "id": "85bcf60f-b6f8-4a7a-8179-4d4f292f8244",
   "metadata": {},
   "source": [
    "Real-valued functions operate on subsets of the set $\\mathbf{R}$ of the real numbers. If such a function has domain $X\\subseteq\\mathbf{R}$ ja range $Y\\subseteq\\mathbf{R}$, it is also a one-variable function. This is denoted by $f: X \\to Y$. Let us recall some properties of functions.\n",
    "\n",
    "* for every $x\\in X$ there is a unique $y\\in Y$ such that $f(x)=y$ (this a requirement of a function, compared to a relation)\n",
    "* if _also_ for every $y\\in Y$ there is an $x\\in X$ such that $f(x)=y$, such a a function is called _surjective_. This means that $f(X)=Y$\n",
    "* if for every $x, y\\in X$ so that $x\\not= y$ also $f(x)\\not= f(y)$, such a function is called _injective_.\n",
    "* functions with both injective and surjective properties are called _bijective_."
   ]
  },
  {
   "cell_type": "markdown",
   "id": "59bbc3e9-b51f-4018-891c-278cb5035e36",
   "metadata": {},
   "source": [
    "In many practical application $X, Y = \\mathbf{R}$. Graphical representation of this is two-dimensional coordinate system, where the variable $x$ runs through the horizontal axis and the variable $y$ tries to catch up on the vertical axis by following the rule given by the definition of $f$."
   ]
  },
  {
   "cell_type": "markdown",
   "id": "1f58793e-1a47-4872-9232-c21d11f74f7c",
   "metadata": {},
   "source": [
    "### Continuous function"
   ]
  },
  {
   "cell_type": "markdown",
   "id": "a151cd93-5acb-4398-a5fb-03583efb8136",
   "metadata": {},
   "source": [
    "We can see even from definitions above that it is very general &ndash; indeed, there are a lot of real functions $x\\mapsto f(x)$. We usually consider the ones that behave properly. Don't worry, there are still [uncountably](https://en.wikipedia.org/wiki/Uncountable_set) many left even with such restrictions."
   ]
  },
  {
   "cell_type": "markdown",
   "id": "2124700b",
   "metadata": {},
   "source": [
    "A real function $f:\\mathbf{X}\\to\\mathbf{R}$ is _continuous at point_ $a\\in\\mathbf{R}$, if the following conditions are satisfied:\n",
    "\n",
    "* $f$ is defined at $a$\n",
    "* $\\lim_{x\\to a}f(x)$ exists\n",
    "* $\\lim_{x\\to a}f(x)=a$ "
   ]
  },
  {
   "cell_type": "markdown",
   "id": "8d2c7832",
   "metadata": {},
   "source": [
    "Function $f:\\mathbf{X}\\to\\mathbf{R}$ is _continuous_ if it is continuous at every point $a\\in\\mathbf{X}$. A function that is not continuous is _discontinuous_."
   ]
  },
  {
   "cell_type": "markdown",
   "id": "4fd7d80a",
   "metadata": {},
   "source": [
    "The idea is that small changes in the values of domain guarantee small changes in the range as well."
   ]
  },
  {
   "cell_type": "markdown",
   "id": "b069c039",
   "metadata": {},
   "source": [
    "**Example**. Consider the function $f:\\mathbf{R}\\to\\mathbf{R}$, $f(x)=x^3$. Let $a\\in\\mathbf{R}$. Then \n",
    "* $f(a) = a^3$\n",
    "* $\\lim_{x\\to a}f(x) = \\lim_{x\\to a} x^3 = a^3$ and also exists."
   ]
  },
  {
   "cell_type": "markdown",
   "id": "cfba97dd-e886-4ef3-9c38-45d9b58f170e",
   "metadata": {},
   "source": [
    "## Derivative"
   ]
  },
  {
   "cell_type": "markdown",
   "id": "443a3721-946f-4fdb-be57-10a8d2cf22ee",
   "metadata": {},
   "source": [
    "Possibly the most important concept of _calculus_, at least of _differential calculus_  is the concept of __derivative__. Oversimplifying, derivatives are calculations of the rates of changes. Although the idea is rather simple, they have numerous properties, both earthbound and extraterrestrial. Whereas the concept of a derivative goes back to the ancient Greek, by the work of Euclid and Archimedes in circa 300&ndash; 200 BC, as creators of the modern calculus are considered _Gottfried Wilhelm Leibniz_ and _Sir Isaac Newton_, independently, in the late 17th century. \n",
    "\n",
    "* [Wikipedia: Calculus](https://en.wikipedia.org/wiki/Calculus)\n",
    "* [Wikipedia: Differential Calculus](https://en.wikipedia.org/wiki/Differential_calculus)\n",
    "* [Wikipedia: Gottfried Wilhelm Leibniz](https://en.wikipedia.org/wiki/Gottfried_Wilhelm_Leibniz)\n",
    "* [Wikipedia: Isaac Newton](https://en.wikipedia.org/wiki/Isaac_Newton)"
   ]
  },
  {
   "cell_type": "markdown",
   "id": "1c2c0bf1-f69c-4b12-bd56-7dfbf759857a",
   "metadata": {},
   "source": [
    "### Definition of Derivative"
   ]
  },
  {
   "cell_type": "markdown",
   "id": "f9284b6d",
   "metadata": {},
   "source": [
    "The _derivative_ of a real-valued function $f:\\mathbf{X}\\to\\mathbf{R}$, $\\mathbf{X}\\subseteq\\mathbf{R}$, _at point_ $a\\in\\mathbf{X}$ is defined to be\n",
    "* $\\lim_{h\\to 0}\\frac{f(a+h)-f(a)}{h}$, if the limit exists"
   ]
  },
  {
   "cell_type": "markdown",
   "id": "f8ed34a1",
   "metadata": {},
   "source": [
    "The derivative of $f$ at point $a\\in\\mathbf{R}$ is denoted by $f'(a)$, or $\\frac{df}{dx}a$ or $Df(a)$."
   ]
  },
  {
   "cell_type": "markdown",
   "id": "00f19a99",
   "metadata": {},
   "source": [
    "Calculating the derivative is called _differentiation_. A function is _differentiable_ if the derivative of the function exists at all points of its domain. In particular, every differentiable function is continuous &ndash; notice that the reserve statement is not always true."
   ]
  },
  {
   "cell_type": "markdown",
   "id": "d0995931",
   "metadata": {},
   "source": [
    "We seldom need the definition of derivative per se in practical situations. Instead, there are several useful rules which to apply."
   ]
  },
  {
   "cell_type": "markdown",
   "id": "d60a13d9",
   "metadata": {},
   "source": [
    "**Example**. Basically in the defintion of the derivative, the point is whether $h$ can be divided out in the fraction. Let's see how this is done in the case $f:\\mathbf{R}\\to\\mathbf{R}$, $f(x)=x^3$. Let $a\\in\\mathbf{R}$. \n",
    "\n",
    "$$\n",
    "\\lim_{h\\to 0}\\frac{f(a+h)-f(a)}{h} = \n",
    "$$\n",
    "$$\n",
    "\\lim_{h\\to 0}\\frac{(a+h)^3-a^3}{h} = \n",
    "$$\n",
    "$$\n",
    "\\lim_{h\\to 0}\\frac{a^3 + 3\\cdot a^2\\cdot h + 3\\cdot a\\cdot h^2 + h^3 - a^3}{h} = \n",
    "$$\n",
    "$$\n",
    "\\lim_{h\\to 0}(3\\cdot a^2 + 3\\cdot a\\cdot h + h^2) = \n",
    "$$\n",
    "$$\n",
    "3\\cdot a^2\n",
    "$$"
   ]
  },
  {
   "cell_type": "markdown",
   "id": "a265f906-106d-45cd-aeef-d0b67054dbfa",
   "metadata": {},
   "source": [
    "### Derivation rules"
   ]
  },
  {
   "cell_type": "markdown",
   "id": "85f7b8ff",
   "metadata": {},
   "source": [
    "Next, let's consider derivation rules for useful functions.\n",
    "\n",
    "* algebraic functions: $D(x^n) = n\\cdot x^{n-1}$, for any $n\\in\\mathbf{R}$\n",
    "* trigonometric functions: $D(sin x) = cos(x)$ and $D(cos x) = -sin x$\n",
    "* exponential functions: $D(e^x) = e^x$\n",
    "\n"
   ]
  },
  {
   "cell_type": "markdown",
   "id": "a55541a5",
   "metadata": {},
   "source": [
    "Assume the $f$ and $g$ are two functions and their derivatives are known, and $a, b\\in\\mathbf{R}$ are constants. Then the rule for differentiating \n",
    "\n",
    "* _sum_: $D(a\\cdot f + b\\cdot g) = a\\cdot D(f) + b\\cdot D(g)$\n",
    "* _product_: $D(f\\cdot g) = f\\cdot D(g) + g\\cdot D(f)$\n",
    "* _quotient_: $D(\\frac{f}{g}) = \\frac{g\\cdot D(f) - f\\cdot D(g)}{g^2}$\n",
    "* _chain rule_: $D(f(g(x)) = D(f(g(x)))\\cdot D(g(x))$"
   ]
  },
  {
   "cell_type": "markdown",
   "id": "6c45ff89-f9b5-4c99-a48a-a6f48a1c01b7",
   "metadata": {},
   "source": [
    "### Derivation with Sympy"
   ]
  },
  {
   "cell_type": "markdown",
   "id": "e967b2c5-fb00-4593-9635-e4eda5939181",
   "metadata": {},
   "source": [
    "### Brief discussion of applications"
   ]
  },
  {
   "cell_type": "code",
   "execution_count": 1,
   "id": "78a80489-382d-43cd-8953-bcec00a02d7f",
   "metadata": {},
   "outputs": [
    {
     "name": "stdout",
     "output_type": "stream",
     "text": [
      "Last modified on 2024-09-26 17:43 by Juha Nurmonen\n"
     ]
    }
   ],
   "source": [
    "import datetime\n",
    "print(f'Last modified on {datetime.datetime.now():%Y-%m-%d %H:%M} by Juha Nurmonen')"
   ]
  }
 ],
 "metadata": {
  "kernelspec": {
   "display_name": "Python 3 (ipykernel)",
   "language": "python",
   "name": "python3"
  },
  "language_info": {
   "codemirror_mode": {
    "name": "ipython",
    "version": 3
   },
   "file_extension": ".py",
   "mimetype": "text/x-python",
   "name": "python",
   "nbconvert_exporter": "python",
   "pygments_lexer": "ipython3",
   "version": "3.10.13"
  }
 },
 "nbformat": 4,
 "nbformat_minor": 5
}
